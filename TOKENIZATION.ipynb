{
  "nbformat": 4,
  "nbformat_minor": 0,
  "metadata": {
    "colab": {
      "provenance": []
    },
    "kernelspec": {
      "name": "python3",
      "display_name": "Python 3"
    },
    "language_info": {
      "name": "python"
    }
  },
  "cells": [
    {
      "cell_type": "markdown",
      "source": [
        "Tokenization refers to the set of (vocabulary) unique words in the sentence given by user or present in the sentence.\n"
      ],
      "metadata": {
        "id": "DnxcbZ3OtrxH"
      }
    },
    {
      "cell_type": "markdown",
      "source": [
        "Tokenzation is of two types <br>\n",
        "1.) word tokenization <br>\n",
        "2.) sentence tokenization"
      ],
      "metadata": {
        "id": "uy91oE0buYbX"
      }
    },
    {
      "cell_type": "code",
      "source": [
        "import re\n",
        "import nltk"
      ],
      "metadata": {
        "id": "c63qrCYBwScq"
      },
      "execution_count": 1,
      "outputs": []
    },
    {
      "cell_type": "markdown",
      "source": [
        "1.) Word tokenization can be done using <br>\n",
        "i.) .split() method in python <br>\n",
        "ii.) using re <br>\n",
        "iii.) using nltk module "
      ],
      "metadata": {
        "id": "fFmLiFoSu-xU"
      }
    },
    {
      "cell_type": "code",
      "execution_count": 14,
      "metadata": {
        "colab": {
          "base_uri": "https://localhost:8080/"
        },
        "id": "5P6kE1hbtfF3",
        "outputId": "da7ea177-8bf0-4698-f5d1-ef2a6618da4c"
      },
      "outputs": [
        {
          "output_type": "stream",
          "name": "stdout",
          "text": [
            "{'remaining', 'versions', 'dummy', 'popularised', 'text', 'took', 'release', 'printing', 'centuries,', 'standard', 'simply', 'into', 'letraset', 'leap', 'when', 'unknown', 'type', 'of', 'the', 'it', 'specimen', 'also', 'since', 'but', 'containing', 'typesetting', '1500s,', 'scrambled', 'make', 'desktop', 'more', 'is', 'aldus', 'lorem', 'recently', 'and', 'an', \"industry's\", 'like', 'sheets', 'passages,', 'with', 'ever', 'software', '1960s', 'been', 'only', 'electronic', 'galley', 'has', 'a', 'unchanged.', 'not', 'ipsum', 'publishing', 'including', 'book.', 'was', 'printer', 'to', 'pagemaker', 'industry.', 'typesetting,', 'survived', 'in', 'essentially', 'five'}\n",
            "67\n"
          ]
        }
      ],
      "source": [
        "text=\"Lorem Ipsum is simply dummy text of the printing and typesetting industry. Lorem Ipsum has been the industry's standard dummy text ever since the 1500s, when an unknown printer took a galley of type and scrambled it to make a type specimen book. It has survived not only five centuries, but also the leap into electronic typesetting, remaining essentially unchanged. It was popularised in the 1960s with the release of Letraset sheets containing Lorem Ipsum passages, and more recently with desktop publishing software like Aldus PageMaker including versions of Lorem Ipsum\"\n",
        "tokens=text.lower().split()\n",
        "print(set(tokens))\n",
        "print(len(set(tokens)))"
      ]
    },
    {
      "cell_type": "code",
      "source": [
        "sentences=text.split(\".\")\n",
        "print(sentences)\n",
        "print(len(sentences))"
      ],
      "metadata": {
        "colab": {
          "base_uri": "https://localhost:8080/"
        },
        "id": "6_9Jo1MnyUZp",
        "outputId": "674fe328-34b0-45de-f006-b272b6acd99d"
      },
      "execution_count": 15,
      "outputs": [
        {
          "output_type": "stream",
          "name": "stdout",
          "text": [
            "['Lorem Ipsum is simply dummy text of the printing and typesetting industry', \" Lorem Ipsum has been the industry's standard dummy text ever since the 1500s, when an unknown printer took a galley of type and scrambled it to make a type specimen book\", ' It has survived not only five centuries, but also the leap into electronic typesetting, remaining essentially unchanged', ' It was popularised in the 1960s with the release of Letraset sheets containing Lorem Ipsum passages, and more recently with desktop publishing software like Aldus PageMaker including versions of Lorem Ipsum']\n",
            "4\n"
          ]
        }
      ]
    },
    {
      "cell_type": "code",
      "source": [
        "tokens1=re.findall(\"[\\w']\",text)\n",
        "print(set(tokens))\n",
        "print(len(set(tokens)))"
      ],
      "metadata": {
        "colab": {
          "base_uri": "https://localhost:8080/"
        },
        "id": "-EPkYUmKxHB9",
        "outputId": "cb5883bb-cf57-4f56-f2d0-637ae04b1b2b"
      },
      "execution_count": 16,
      "outputs": [
        {
          "output_type": "stream",
          "name": "stdout",
          "text": [
            "{'remaining', 'versions', 'dummy', 'popularised', 'text', 'took', 'release', 'printing', 'centuries,', 'standard', 'simply', 'into', 'letraset', 'leap', 'when', 'unknown', 'type', 'of', 'the', 'it', 'specimen', 'also', 'since', 'but', 'containing', 'typesetting', '1500s,', 'scrambled', 'make', 'desktop', 'more', 'is', 'aldus', 'lorem', 'recently', 'and', 'an', \"industry's\", 'like', 'sheets', 'passages,', 'with', 'ever', 'software', '1960s', 'been', 'only', 'electronic', 'galley', 'has', 'a', 'unchanged.', 'not', 'ipsum', 'publishing', 'including', 'book.', 'was', 'printer', 'to', 'pagemaker', 'industry.', 'typesetting,', 'survived', 'in', 'essentially', 'five'}\n",
            "67\n"
          ]
        }
      ]
    },
    {
      "cell_type": "code",
      "source": [
        "sentence2=re.compile('[.?!]').split(text)\n",
        "print(sentence2)\n",
        "print(len(sentence2))"
      ],
      "metadata": {
        "colab": {
          "base_uri": "https://localhost:8080/"
        },
        "id": "oYt7mj5yx8-T",
        "outputId": "eef2a1b2-707d-4489-8d96-c7e7b56dac78"
      },
      "execution_count": 17,
      "outputs": [
        {
          "output_type": "stream",
          "name": "stdout",
          "text": [
            "['Lorem Ipsum is simply dummy text of the printing and typesetting industry', \" Lorem Ipsum has been the industry's standard dummy text ever since the 1500s, when an unknown printer took a galley of type and scrambled it to make a type specimen book\", ' It has survived not only five centuries, but also the leap into electronic typesetting, remaining essentially unchanged', ' It was popularised in the 1960s with the release of Letraset sheets containing Lorem Ipsum passages, and more recently with desktop publishing software like Aldus PageMaker including versions of Lorem Ipsum']\n",
            "4\n"
          ]
        }
      ]
    },
    {
      "cell_type": "code",
      "source": [
        "\n",
        "import nltk\n",
        "nltk.download('punkt')"
      ],
      "metadata": {
        "colab": {
          "base_uri": "https://localhost:8080/"
        },
        "id": "78pNklyjzfgU",
        "outputId": "7bc66003-8bf1-48d6-c575-efb20a043108"
      },
      "execution_count": 18,
      "outputs": [
        {
          "output_type": "stream",
          "name": "stderr",
          "text": [
            "[nltk_data] Downloading package punkt to /root/nltk_data...\n",
            "[nltk_data]   Package punkt is already up-to-date!\n"
          ]
        },
        {
          "output_type": "execute_result",
          "data": {
            "text/plain": [
              "True"
            ]
          },
          "metadata": {},
          "execution_count": 18
        }
      ]
    },
    {
      "cell_type": "code",
      "source": [
        "\n",
        "from nltk.tokenize import word_tokenize \n",
        "tokens = word_tokenize(text)\n",
        "print(set(tokens))\n",
        "print(\"No.of tokens : \", len(set(tokens)))"
      ],
      "metadata": {
        "colab": {
          "base_uri": "https://localhost:8080/"
        },
        "id": "8eh7sw2T0TlH",
        "outputId": "a34b349e-1a56-4265-b029-ee8492de3fcc"
      },
      "execution_count": 19,
      "outputs": [
        {
          "output_type": "stream",
          "name": "stdout",
          "text": [
            "{'remaining', 'dummy', 'popularised', 'text', 'took', 'book', 'release', 'printing', 'standard', 'simply', 'into', 'leap', 'when', 'unknown', 'type', 'Lorem', 'unchanged', 'of', 'Letraset', 'the', 'it', 'specimen', 'industry', 'also', '.', 'since', ',', 'but', 'containing', 'typesetting', 'scrambled', 'make', 'desktop', 'versions', 'more', 'is', 'recently', '1500s', 'and', 'an', 'like', \"'s\", 'sheets', 'software', 'with', 'ever', '1960s', 'been', 'only', 'electronic', 'Ipsum', 'has', 'a', 'galley', 'not', 'passages', 'publishing', 'PageMaker', 'including', 'It', 'was', 'printer', 'to', 'centuries', 'Aldus', 'survived', 'in', 'essentially', 'five'}\n",
            "No.of tokens :  69\n"
          ]
        }
      ]
    },
    {
      "cell_type": "code",
      "source": [
        "\n",
        "\n",
        "#sentence tokenization\n",
        "from nltk.tokenize import sent_tokenize\n",
        "sentences = sent_tokenize(text)\n",
        "print(sentences)\n",
        "print(\"No.of sentences : \", len(sentences))"
      ],
      "metadata": {
        "colab": {
          "base_uri": "https://localhost:8080/"
        },
        "id": "FMAFx2pW0cOO",
        "outputId": "6c799e42-3714-4b33-ceb3-abbc8cb58bd6"
      },
      "execution_count": 20,
      "outputs": [
        {
          "output_type": "stream",
          "name": "stdout",
          "text": [
            "['Lorem Ipsum is simply dummy text of the printing and typesetting industry.', \"Lorem Ipsum has been the industry's standard dummy text ever since the 1500s, when an unknown printer took a galley of type and scrambled it to make a type specimen book.\", 'It has survived not only five centuries, but also the leap into electronic typesetting, remaining essentially unchanged.', 'It was popularised in the 1960s with the release of Letraset sheets containing Lorem Ipsum passages, and more recently with desktop publishing software like Aldus PageMaker including versions of Lorem Ipsum']\n",
            "No.of sentences :  4\n"
          ]
        }
      ]
    },
    {
      "cell_type": "code",
      "source": [],
      "metadata": {
        "id": "Mv916R3B1ZH4"
      },
      "execution_count": null,
      "outputs": []
    }
  ]
}